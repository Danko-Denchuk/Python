{
 "cells": [
  {
   "cell_type": "code",
   "execution_count": 1,
   "id": "3593446f-a47c-402e-b764-bd966e6ff560",
   "metadata": {},
   "outputs": [
    {
     "name": "stdout",
     "output_type": "stream",
     "text": [
      "OrderedDict([('C7H5(NO2)3', 2), ('NH4NO3', 7)])\n",
      "OrderedDict([('CO', 14), ('H2O', 19), ('N2', 10)])\n"
     ]
    }
   ],
   "source": [
    "from chempy import balance_stoichiometry\n",
    "from pprint import pprint\n",
    "reac, prod = balance_stoichiometry({'C7H5(NO2)3', 'NH4NO3'}, {'CO', 'H2O', 'N2'})\n",
    "pprint(reac)\n",
    "pprint(prod)"
   ]
  },
  {
   "cell_type": "code",
   "execution_count": 2,
   "id": "a565217d-8f5e-4804-b8ed-70f2046de701",
   "metadata": {},
   "outputs": [
    {
     "name": "stdout",
     "output_type": "stream",
     "text": [
      "{'C7H5(NO2)3': '44.8 wt%', 'NH4NO3': '55.2 wt%'}\n",
      "{'CO': '38.7 wt%', 'H2O': '33.7 wt%', 'N2': '27.6 wt%'}\n"
     ]
    }
   ],
   "source": [
    "from chempy import mass_fractions\n",
    "for fractions in map(mass_fractions, [reac, prod]):\n",
    "    pprint({k: '{0:.3g} wt%'.format(v*100) for k, v in fractions.items()})"
   ]
  },
  {
   "cell_type": "code",
   "execution_count": 3,
   "id": "df05c6aa-1704-4edf-87fe-e0f9efaf5d40",
   "metadata": {},
   "outputs": [
    {
     "data": {
      "text/plain": [
       "True"
      ]
     },
     "execution_count": 3,
     "metadata": {},
     "output_type": "execute_result"
    }
   ],
   "source": [
    "from chempy import Substance\n",
    "ferricyanide = Substance.from_formula('Fe(CN)6-3')\n",
    "ferricyanide.composition == {0: -3, 26: 1, 6: 6, 7: 6}"
   ]
  },
  {
   "cell_type": "code",
   "execution_count": 4,
   "id": "42910782-e333-42d3-a875-e96ac818ece0",
   "metadata": {},
   "outputs": [
    {
     "name": "stdout",
     "output_type": "stream",
     "text": [
      "Fe(CN)₆³⁻\n"
     ]
    }
   ],
   "source": [
    "print(ferricyanide.unicode_name)"
   ]
  },
  {
   "cell_type": "code",
   "execution_count": 5,
   "id": "3b827e96-5e1c-47c9-94e1-4175a3a45f7e",
   "metadata": {},
   "outputs": [
    {
     "name": "stdout",
     "output_type": "stream",
     "text": [
      "Fe(CN)_{6}^{3-}, Fe(CN)<sub>6</sub><sup>3-</sup>\n"
     ]
    }
   ],
   "source": [
    "print(ferricyanide.latex_name + \", \" + ferricyanide.html_name)"
   ]
  },
  {
   "cell_type": "code",
   "execution_count": 6,
   "id": "28fb3734-6450-40e7-8886-7891ca5116fd",
   "metadata": {},
   "outputs": [
    {
     "name": "stdout",
     "output_type": "stream",
     "text": [
      "211.955\n"
     ]
    }
   ],
   "source": [
    "print('%.3f' % ferricyanide.mass)"
   ]
  },
  {
   "cell_type": "code",
   "execution_count": null,
   "id": "28e3b1d3-70a1-4491-9442-105a4ce9ac50",
   "metadata": {},
   "outputs": [],
   "source": []
  },
  {
   "cell_type": "code",
   "execution_count": null,
   "id": "1e6ca47f-6e2c-447d-8ebb-20f3f66939ca",
   "metadata": {},
   "outputs": [],
   "source": []
  },
  {
   "cell_type": "code",
   "execution_count": null,
   "id": "1c97da55-a40e-437f-aa70-bc4f67a2cb68",
   "metadata": {},
   "outputs": [],
   "source": []
  }
 ],
 "metadata": {
  "kernelspec": {
   "display_name": "Python 3 (ipykernel)",
   "language": "python",
   "name": "python3"
  },
  "language_info": {
   "codemirror_mode": {
    "name": "ipython",
    "version": 3
   },
   "file_extension": ".py",
   "mimetype": "text/x-python",
   "name": "python",
   "nbconvert_exporter": "python",
   "pygments_lexer": "ipython3",
   "version": "3.9.6"
  }
 },
 "nbformat": 4,
 "nbformat_minor": 5
}
